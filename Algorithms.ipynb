{
 "cells": [
  {
   "cell_type": "code",
   "execution_count": 12,
   "metadata": {},
   "outputs": [
    {
     "name": "stdout",
     "output_type": "stream",
     "text": [
      "97 97\n",
      "0\n"
     ]
    }
   ],
   "source": [
    "# Rabin Karp Algorithm\n",
    "# The Main Idea\n",
    "# Compute the hash value of the target substring\n",
    "# Iterate through each letter of the string computing the hash value of m consecutive letters in the string\n",
    "# If the hash value is equal to the target hash value, we have found the substring\n",
    "# Otherwise, continually remove the oldest letter in the rolling hash and add the next letter in the string.\n",
    "# If we didn’t find a matching hash value after we have iterated through each letter, then the substring doesn’t \n",
    "# exist.\n",
    "\n",
    "class Solution(object):\n",
    "    def rabin_karp(self , string , target_string):\n",
    "        #check for empty strings\n",
    "        if not string and not target_string:\n",
    "            return -1\n",
    "        window_size = len(target_string)\n",
    "        string_size = len(string)\n",
    "        target_hash = RollingHash(target_string, window_size)\n",
    "        rolling_hash = RollingHash(string, window_size)\n",
    "        print(target_hash.value,rolling_hash.value)\n",
    "        if target_hash.value == rolling_hash.value:\n",
    "            return 0 \n",
    "        for i in range(window_size, string_size):\n",
    "            character = string[i]\n",
    "            rolling_hash.compute(character)\n",
    "            if target_hash.value == rolling_hash.value:\n",
    "                return i\n",
    "        return -1\n",
    "            \n",
    "        \n",
    "class RollingHash(object):\n",
    "    \n",
    "    def __init__(self, string, window_size):\n",
    "        self.k = window_size-1\n",
    "        self.string = string\n",
    "        self.base = 256\n",
    "        self.value = 0\n",
    "        self.string = string\n",
    "        self.old_char_pointer = 0 \n",
    "        self.compute_initial_hash()\n",
    "        \n",
    "    def compute_initial_hash(self):\n",
    "        powers= range(self.k,-1,-1)\n",
    "        for i in range(self.k+1):\n",
    "            character = self.string[i]\n",
    "            power = powers[i]\n",
    "            self.value = ord(character)* self.base**power\n",
    "            \n",
    "    def compute(self,character):\n",
    "        old_character = self.string[self.old_char_pointer]\n",
    "        self.value -= ord(old_character) * self.base**self.k\n",
    "        self.value *= self.base\n",
    "        self.value += ord(character)\n",
    "        self.old_char_pointer+=1\n",
    "\n",
    "string = \"ccaccaaedba\"\n",
    "pattern = \"dba\"\n",
    "a=Solution()\n",
    "print(a.rabin_karp(string,pattern))\n",
    "    \n",
    "        "
   ]
  },
  {
   "cell_type": "code",
   "execution_count": 4,
   "metadata": {},
   "outputs": [
    {
     "data": {
      "text/plain": [
       "dict_values([2, 4])"
      ]
     },
     "execution_count": 4,
     "metadata": {},
     "output_type": "execute_result"
    }
   ],
   "source": [
    "l = {1:2,2:4}\n",
    "l.values()"
   ]
  },
  {
   "cell_type": "code",
   "execution_count": null,
   "metadata": {},
   "outputs": [],
   "source": [
    "import ipdb\n",
    "def cyclicReplacement(nums,k):'\n",
    "    ipdb.set_trace()\n",
    "    length = len(nums)\n",
    "    count = 0\n",
    "    for i in range(length-k,length):\n",
    "        tmp = nums[count]\n",
    "        nums[count] = nums[i]\n",
    "        tmp2 = nums[k+count]\n",
    "        nums[k+count] = tmp\n",
    "        nums[i] = tmp2"
   ]
  }
 ],
 "metadata": {
  "kernelspec": {
   "display_name": "Python 3",
   "language": "python",
   "name": "python3"
  },
  "language_info": {
   "codemirror_mode": {
    "name": "ipython",
    "version": 3
   },
   "file_extension": ".py",
   "mimetype": "text/x-python",
   "name": "python",
   "nbconvert_exporter": "python",
   "pygments_lexer": "ipython3",
   "version": "3.5.2"
  }
 },
 "nbformat": 4,
 "nbformat_minor": 2
}
