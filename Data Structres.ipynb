{
 "cells": [
  {
   "cell_type": "code",
   "execution_count": 1,
   "metadata": {},
   "outputs": [
    {
     "data": {
      "text/plain": [
       "[0, 1, 2, 3, 4, 5, 6, 7, 8, 9]"
      ]
     },
     "execution_count": 1,
     "metadata": {},
     "output_type": "execute_result"
    }
   ],
   "source": [
    "import heapq\n",
    "def heapsort(iterable):\n",
    "    h = []\n",
    "    for i in iterable:\n",
    "        heapq.heappush(h, i)\n",
    "    return [heapq.heappop(h) for i in range(len(h))]\n",
    "heapsort([1, 3, 5, 7, 9, 2, 4, 6, 8, 0])"
   ]
  },
  {
   "cell_type": "code",
   "execution_count": 6,
   "metadata": {},
   "outputs": [
    {
     "name": "stdout",
     "output_type": "stream",
     "text": [
      "(1, 'write spec')\n",
      "(3, 'create tests')\n",
      "(5, 'write code')\n",
      "(7, 'release product')\n"
     ]
    }
   ],
   "source": [
    "h = []\n",
    "heapq.heappush(h, (5, 'write code'))\n",
    "heapq.heappush(h, (7, 'release product'))\n",
    "heapq.heappush(h, (1, 'write spec'))\n",
    "heapq.heappush(h, (3, 'create tests'))\n",
    "print(heapq.heappop(h))\n",
    "print(heapq.heappop(h))\n",
    "print(heapq.heappop(h))\n",
    "print(heapq.heappop(h))"
   ]
  },
  {
   "cell_type": "code",
   "execution_count": 15,
   "metadata": {},
   "outputs": [],
   "source": [
    "import itertools\n",
    "pq = [] #list of entries arranged in heap \n",
    "entry_finder = {} #mapping od task to entries \n",
    "REMOVED = \"<removed_task>\" #place holder for removed task\n",
    "counter = itertools.count() #unique sequence count\n",
    "def add_task(task, priority = 0):\n",
    "    \"Add a new task or update the priority of an existing task\"\n",
    "    if task in entry_finder:\n",
    "        remove_task(task)\n",
    "    count = next(counter)\n",
    "    entry = [priority, count, task]\n",
    "    entry_finder[task] = entry\n",
    "    heapq.heappush(pq,entry)\n",
    "\n",
    "def remove_task(task):\n",
    "    \"Mark an existing task as removed. Raise Key error if not found\"\n",
    "    item = entry_finder.pop(task)\n",
    "    entry[-1] = REMOVED\n",
    "\n",
    "def pop_task():\n",
    "    \"Remove and return the lowest priority task and raise key erroe if empty\"\n",
    "    priority, count, task = heapq.heappop(pq)\n",
    "    if task is not REMOVED:\n",
    "        del entry_finder[task]\n",
    "        return task\n",
    "    raise KeyError('pop from an empty priority queue')"
   ]
  },
  {
   "cell_type": "code",
   "execution_count": 16,
   "metadata": {},
   "outputs": [
    {
     "name": "stdout",
     "output_type": "stream",
     "text": [
      "5\n",
      "4\n",
      "3\n",
      "2\n",
      "1\n"
     ]
    }
   ],
   "source": [
    "pq = [1,2,3,4,5]\n",
    "while pq:\n",
    "    print(pq.pop())"
   ]
  },
  {
   "cell_type": "code",
   "execution_count": null,
   "metadata": {},
   "outputs": [],
   "source": []
  }
 ],
 "metadata": {
  "kernelspec": {
   "display_name": "Python 3",
   "language": "python",
   "name": "python3"
  },
  "language_info": {
   "codemirror_mode": {
    "name": "ipython",
    "version": 3
   },
   "file_extension": ".py",
   "mimetype": "text/x-python",
   "name": "python",
   "nbconvert_exporter": "python",
   "pygments_lexer": "ipython3",
   "version": "3.5.2"
  }
 },
 "nbformat": 4,
 "nbformat_minor": 2
}
